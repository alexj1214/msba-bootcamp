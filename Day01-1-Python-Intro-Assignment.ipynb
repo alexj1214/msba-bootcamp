{
  "cells": [
    {
      "cell_type": "markdown",
      "metadata": {
        "id": "9RnS3luTILun"
      },
      "source": [
        "# Day 1: Python Programming Fundamentals\n",
        "## Instructions & Exercises\n",
        "\n",
        "Welcome to your first day of Python programming! This notebook contains exercises and instructions to help you learn programming fundamentals, pseudocode, and basic Python concepts.\n",
        "\n",
        "---\n"
      ]
    },
    {
      "cell_type": "markdown",
      "metadata": {
        "id": "KywhH8nTILuo"
      },
      "source": [
        "## 📚 Section 1 Solutions: Programming Fundamentals & Computational Thinking\n",
        "\n",
        "### Exercise 1.1 Solution: Problem Decomposition\n",
        "\n",
        "**Sample Answer for making a PB&J sandwich:**\n",
        "\n",
        "1. Gather materials: bread, peanut butter, jelly, knife, plate\n",
        "2. Check that bread is not moldy\n",
        "3. Place two slices of bread on the plate\n",
        "4. Open the peanut butter jar by twisting the lid counter-clockwise\n",
        "5. Insert knife into peanut butter jar\n",
        "6. Scoop out approximately 1 tablespoon of peanut butter on the knife\n",
        "7. Spread peanut butter evenly on ONE slice of bread\n",
        "8. Wipe knife clean with a paper towel\n",
        "9. Open jelly jar by twisting lid counter-clockwise\n",
        "10. Insert clean knife into jelly jar\n",
        "11. Scoop out approximately 1 tablespoon of jelly\n",
        "12. Spread jelly evenly on the OTHER slice of bread\n",
        "13. Place the peanut butter slice face-down on top of the jelly slice\n",
        "14. Gently press together\n",
        "15. Cut diagonally if desired\n",
        "16. Clean up materials\n",
        "\n",
        "**Key Learning**: Breaking problems into small, specific steps helps identify potential issues and ensures nothing is forgotten.\n"
      ]
    },
    {
      "cell_type": "markdown",
      "metadata": {
        "id": "ZT-MmFmYILup"
      },
      "source": [
        "## 📚 Section 1 Solutions: Programming Fundamentals & Computational Thinking\n",
        "\n",
        "### Exercise 1.1 Solution: Problem Decomposition\n",
        "\n",
        "**Sample Answer for making a PB&J sandwich:**\n",
        "\n",
        "1. Gather materials: bread, peanut butter, jelly, knife, plate\n",
        "2. Check that bread is not moldy\n",
        "3. Place two slices of bread on the plate\n",
        "4. Open the peanut butter jar by twisting the lid counter-clockwise\n",
        "5. Insert knife into peanut butter jar\n",
        "6. Scoop out approximately 1 tablespoon of peanut butter on the knife\n",
        "7. Spread peanut butter evenly on ONE slice of bread\n",
        "8. Wipe knife clean with a paper towel\n",
        "9. Open jelly jar by twisting lid counter-clockwise\n",
        "10. Insert clean knife into jelly jar\n",
        "11. Scoop out approximately 1 tablespoon of jelly\n",
        "12. Spread jelly evenly on the OTHER slice of bread\n",
        "13. Place the peanut butter slice face-down on top of the jelly slice\n",
        "14. Gently press together\n",
        "15. Cut diagonally if desired\n",
        "16. Clean up materials\n",
        "\n",
        "**Key Learning**: Breaking problems into small, specific steps helps identify potential issues and ensures nothing is forgotten.\n"
      ]
    },
    {
      "cell_type": "markdown",
      "metadata": {
        "id": "i0yLq1qLILup"
      },
      "source": [
        "## 🎯 Learning Objectives\n",
        "\n",
        "By the end of this lesson, you will be able to:\n",
        "1. Understand computational thinking and problem-solving approaches\n",
        "2. Write pseudocode to outline solutions\n",
        "3. Design basic algorithms for simple problems\n",
        "4. Write and run your first Python program\n",
        "5. Understand how Python code interacts with computer hardware\n",
        "\n",
        "---\n"
      ]
    },
    {
      "cell_type": "markdown",
      "metadata": {
        "id": "ylIHaoYDILup"
      },
      "source": [
        "## 📚 Section 1: Programming Fundamentals & Computational Thinking\n",
        "\n",
        "### What is Computational Thinking?\n",
        "\n",
        "Computational thinking is a problem-solving approach that involves:\n",
        "- **Decomposition**: Breaking down complex problems into smaller, manageable parts\n",
        "- **Pattern Recognition**: Identifying similarities and patterns in problems\n",
        "- **Abstraction**: Focusing on essential features while ignoring irrelevant details\n",
        "- **Algorithm Design**: Creating step-by-step solutions\n",
        "\n",
        "### Exercise 1.1: Problem Decomposition\n",
        "\n",
        "**Task**: Think about how you would explain to a friend how to make a peanut butter and jelly sandwich. Break this down into the smallest possible steps.\n",
        "\n",
        "**Instructions**:\n",
        "1. In the cell below, list out every single step required\n",
        "2. Be as detailed as possible (assume your friend has never made a sandwich before)\n",
        "3. Think about what could go wrong at each step\n"
      ]
    },
    {
      "cell_type": "markdown",
      "metadata": {
        "id": "esgTPIALILup"
      },
      "source": [
        "**Your Answer for Exercise 1.1:**\n",
        "\n",
        "<!-- Write your step-by-step instructions here -->\n",
        "\n"
      ]
    },
    {
      "cell_type": "markdown",
      "metadata": {
        "id": "x3R7EJx4ILup"
      },
      "source": [
        "### Exercise 1.2: Pattern Recognition\n",
        "\n",
        "**Task**: Look at these number sequences and identify the patterns:\n",
        "\n",
        "1. 2, 4, 6, 8, 10, ?, ?\n",
        "2. 1, 4, 9, 16, 25, ?, ?\n",
        "3. 1, 1, 2, 3, 5, 8, ?, ?\n",
        "\n",
        "**Instructions**:\n",
        "1. Identify the pattern in each sequence\n",
        "2. Predict the next two numbers\n",
        "3. Explain the rule for each pattern\n"
      ]
    },
    {
      "cell_type": "markdown",
      "metadata": {
        "id": "cCjsI2KeILuq"
      },
      "source": [
        "**Your Answer for Exercise 1.2:**\n",
        "\n",
        "1. Pattern: n = 2*n, Next numbers: 12, 14\n",
        "2. Pattern: n = n^2, Next numbers: 36, 49\n",
        "3. Pattern: the number equals the sum of last two numbers, Next numbers: 13, 21\n"
      ]
    },
    {
      "cell_type": "markdown",
      "metadata": {
        "id": "xsxT-syMILuq"
      },
      "source": [
        "---\n",
        "\n",
        "## 📝 Section 2: Pseudocode & Algorithm Design\n",
        "\n",
        "### What is Pseudocode?\n",
        "\n",
        "Pseudocode is a way to describe an algorithm using plain language that's structured like programming code. It helps you plan your solution before writing actual code.\n",
        "\n",
        "### Pseudocode Guidelines:\n",
        "- Use simple, clear language\n",
        "- Structure your logic with indentation\n",
        "- Use keywords like START, END, IF, THEN, ELSE, WHILE, FOR\n",
        "- Focus on the logic, not the syntax\n",
        "\n",
        "### Example Pseudocode:\n",
        "```\n",
        "START\n",
        "    INPUT user's age\n",
        "    IF age >= 18 THEN\n",
        "        OUTPUT \"You can vote\"\n",
        "    ELSE\n",
        "        OUTPUT \"You cannot vote yet\"\n",
        "    END IF\n",
        "END\n",
        "```\n",
        "\n",
        "### Exercise 2.1: Writing Pseudocode\n",
        "\n",
        "**Task**: Write pseudocode for finding the largest number among three numbers.\n",
        "\n",
        "**Instructions**:\n",
        "1. Think about the steps needed to compare three numbers\n",
        "2. Use proper pseudocode structure\n",
        "3. Consider all possible cases\n"
      ]
    },
    {
      "cell_type": "markdown",
      "metadata": {
        "id": "-TTXNc-yILuq"
      },
      "source": [
        "**Your Pseudocode for Exercise 2.1:**\n",
        "\n",
        "```\n",
        "START\n",
        "    INPUT num 1, num 2, num 3\n",
        "    SET num1 as max\n",
        "    IF num2 > max THEN\n",
        "        SET num2 as max\n",
        "    END IF\n",
        "    IF num3 > max THEN\n",
        "        SET num3 as max\n",
        "    END IF\n",
        "    RETURN max\n",
        "END\n",
        "```\n"
      ]
    },
    {
      "cell_type": "markdown",
      "metadata": {
        "id": "sJt2ZV4PILuq"
      },
      "source": [
        "### Exercise 2.2: Algorithm for Simple Calculator\n",
        "\n",
        "**Task**: Write pseudocode for a simple calculator that can add, subtract, multiply, or divide two numbers.\n",
        "\n",
        "**Instructions**:\n",
        "1. Your algorithm should ask the user for two numbers and an operation\n",
        "2. Perform the calculation\n",
        "3. Display the result\n",
        "4. Handle division by zero\n"
      ]
    },
    {
      "cell_type": "markdown",
      "metadata": {
        "id": "0106OXSGILuq"
      },
      "source": [
        "**Your Pseudocode for Exercise 2.2:**\n",
        "\n",
        "```\n",
        "START\n",
        "    INPUT num1 and num2\n",
        "    IF the operation is add THEN\n",
        "        result = num1 + num2\n",
        "    END IF\n",
        "    IF the operation is subtract THEN\n",
        "        result = num1 - num2\n",
        "    END IF\n",
        "    IF the operation is multiply THEN\n",
        "        result = num1 * num2\n",
        "    END IF\n",
        "    IF the operation is divide THEN\n",
        "        result = num1 / num2\n",
        "        IF num2 = 0 THEN\n",
        "          PRINT \"ERROR\"\n",
        "        ELSE\n",
        "          result = num1 / num2\n",
        "        END IF\n",
        "    END IF\n",
        "    RETURN result\n",
        "END\n",
        "```\n"
      ]
    },
    {
      "cell_type": "markdown",
      "metadata": {
        "id": "ezG5G5K2ILuq"
      },
      "source": [
        "---\n",
        "\n",
        "## 🐍 Section 3: Getting Started with Python\n",
        "\n",
        "### What is Python?\n",
        "\n",
        "Python is a high-level programming language that:\n",
        "- Is easy to read and write\n",
        "- Has simple syntax similar to English\n",
        "- Is widely used in data science, web development, and automation\n",
        "- Runs on an interpreter (translates code to machine language)\n",
        "\n",
        "### How Python Interacts with Hardware:\n",
        "\n",
        "1. **You write Python code** (human-readable)\n",
        "2. **Python interpreter** translates it to bytecode\n",
        "3. **Python Virtual Machine** executes bytecode\n",
        "4. **Operating System** manages hardware resources\n",
        "5. **Hardware** (CPU, memory, storage) executes instructions\n",
        "\n",
        "### Exercise 3.1: Your First Python Program\n",
        "\n",
        "**Task**: Write a \"Hello World\" program that displays a welcome message.\n",
        "\n",
        "**Instructions**:\n",
        "1. Use the `print()` function to display text\n",
        "2. Make your message personal and welcoming\n",
        "3. Run the cell to see your output\n"
      ]
    },
    {
      "cell_type": "code",
      "execution_count": 3,
      "metadata": {
        "id": "fl2aw17nILuq"
      },
      "outputs": [],
      "source": [
        "# Exercise 3.1: Write your \"Hello World\" program here\n",
        "\n",
        "# print(\"Hello World\")\n"
      ]
    },
    {
      "cell_type": "markdown",
      "metadata": {
        "id": "_ZY2-Io5ILur"
      },
      "source": [
        "### Exercise 3.2: Variables and Input\n",
        "\n",
        "**Task**: Create a program that asks for the student's name and program, then displays a personalized message.\n",
        "\n",
        "**Instructions**:\n",
        "1. Use `input()` function to get user input\n",
        "2. Store the input in variables\n",
        "3. Use `print()` to display a message using the variables\n",
        "4. Remember: `input()` always returns a string!\n"
      ]
    },
    {
      "cell_type": "code",
      "execution_count": null,
      "metadata": {
        "id": "Zr8MdXPdILur"
      },
      "outputs": [],
      "source": [
        "# Exercise 3.2: Personal Information Program\n",
        "\n",
        "# Your code here\n"
      ]
    },
    {
      "cell_type": "markdown",
      "metadata": {
        "id": "vPIb6IlyILur"
      },
      "source": [
        "### Exercise 3.3: Implementing Your Pseudocode\n",
        "\n",
        "**Task**: Convert your pseudocode from Exercise 2.1 (finding the largest of three numbers) into actual Python code.\n",
        "\n",
        "**Instructions**:\n",
        "1. Ask the user to input three numbers\n",
        "2. Convert the inputs to integers using `int()`\n",
        "3. Use `if`, `elif`, and `else` statements\n",
        "4. Display which number is the largest\n"
      ]
    },
    {
      "cell_type": "code",
      "execution_count": null,
      "metadata": {
        "id": "h3F5034oILur"
      },
      "outputs": [],
      "source": [
        "# Exercise 3.3: Find the Largest Number\n",
        "\n",
        "# Your code here\n"
      ]
    },
    {
      "cell_type": "markdown",
      "metadata": {
        "id": "B6e77rGRILur"
      },
      "source": [
        "### Exercise 3.4: Simple Calculator Implementation\n",
        "\n",
        "**Task**: Convert your calculator pseudocode from Exercise 2.2 into Python code.\n",
        "\n",
        "**Instructions**:\n",
        "1. Ask for two numbers and an operation (+, -, *, /)\n",
        "2. Use conditional statements to perform the right operation\n",
        "3. Handle division by zero with an appropriate message\n",
        "4. Display the result clearly\n"
      ]
    },
    {
      "cell_type": "code",
      "execution_count": null,
      "metadata": {
        "id": "LXY29qs_ILur"
      },
      "outputs": [],
      "source": [
        "# Exercise 3.4: Simple Calculator\n",
        "\n",
        "# Your code here\n"
      ]
    },
    {
      "cell_type": "markdown",
      "metadata": {
        "id": "WhLS8f4UILur"
      },
      "source": [
        "---\n",
        "\n",
        "## 🚀 Challenge Problems\n",
        "\n",
        "### Challenge 1: Number Guessing Game\n",
        "\n",
        "**Task**: Create a simple number guessing game.\n",
        "\n",
        "**Requirements**:\n",
        "1. The computer \"thinks\" of a number between 1 and 10 (you can hard-code this for now)\n",
        "2. Ask the user to guess the number\n",
        "3. Tell them if their guess is too high, too low, or correct\n",
        "4. Give them a maximum of 3 tries\n"
      ]
    },
    {
      "cell_type": "code",
      "execution_count": null,
      "metadata": {
        "id": "Vx8olLdlILur"
      },
      "outputs": [],
      "source": [
        "# Challenge 1: Number Guessing Game\n",
        "\n",
        "# Your code here\n"
      ]
    },
    {
      "cell_type": "markdown",
      "metadata": {
        "id": "nHuMtWlfILur"
      },
      "source": [
        "### Challenge 2: Grade Calculator\n",
        "\n",
        "**Task**: Create a program that calculates a student's letter grade based on their numeric score.\n",
        "\n",
        "**Requirements**:\n",
        "1. Ask for a numeric grade (0-100)\n",
        "2. Convert to letter grade using this scale:\n",
        "   - A: 90-100\n",
        "   - B: 80-89\n",
        "   - C: 70-79\n",
        "   - D: 60-69\n",
        "   - F: Below 60\n",
        "3. Display both the numeric and letter grade\n"
      ]
    },
    {
      "cell_type": "code",
      "execution_count": null,
      "metadata": {
        "id": "V7Yndmm7ILus"
      },
      "outputs": [],
      "source": [
        "# Challenge 2: Grade Calculator\n",
        "\n",
        "# Your code here\n"
      ]
    },
    {
      "cell_type": "markdown",
      "metadata": {
        "id": "cfSQkALXILus"
      },
      "source": [
        "---\n",
        "\n",
        "## 🤔 Reflection Questions\n",
        "\n",
        "After completing the exercises, reflect on these questions:\n",
        "\n",
        "1. **Problem Solving**: How did breaking down problems into smaller steps help you?\n",
        "\n",
        "2. **Pseudocode vs. Code**: What was the difference between writing pseudocode and actual Python code?\n",
        "\n",
        "3. **Debugging**: What errors did you encounter, and how did you fix them?\n",
        "\n",
        "4. **Computational Thinking**: How can you apply these problem-solving skills to other areas of your life?\n",
        "\n",
        "**Write your reflections below:**\n"
      ]
    },
    {
      "cell_type": "markdown",
      "metadata": {
        "id": "IjrVPIl1ILus"
      },
      "source": [
        "**Your Reflections:**\n",
        "\n",
        "1. Problem Solving:\n",
        "\n",
        "2. Pseudocode vs. Code:\n",
        "\n",
        "3. Debugging:\n",
        "\n",
        "4. Computational Thinking:\n"
      ]
    },
    {
      "cell_type": "markdown",
      "metadata": {
        "id": "pwOIOm0FILus"
      },
      "source": [
        "---\n",
        "\n",
        "## 📚 Additional Resources\n",
        "\n",
        "- [Python.org Official Tutorial](https://docs.python.org/3/tutorial/)\n",
        "- [Computational Thinking Concepts](https://www.cs.cmu.edu/~15110-s13/Wing06-ct.pdf)\n",
        "- [Algorithm Design Techniques](https://www.geeksforgeeks.org/fundamentals-of-algorithms/)\n",
        "\n",
        "---\n",
        "\n",
        "## ✅ What's Next?\n",
        "\n",
        "In the next class, we'll cover:\n",
        "- Data types and variables in more detail\n",
        "- Loops and iterations\n",
        "- Functions and code organization\n",
        "- Working with lists and basic data structures\n",
        "\n",
        "**Great job completing Day 1! 🎉**\n"
      ]
    }
  ],
  "metadata": {
    "language_info": {
      "name": "python"
    },
    "colab": {
      "provenance": []
    },
    "kernelspec": {
      "name": "python3",
      "display_name": "Python 3"
    }
  },
  "nbformat": 4,
  "nbformat_minor": 0
}